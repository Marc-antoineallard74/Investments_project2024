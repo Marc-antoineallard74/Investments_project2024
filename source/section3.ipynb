{
  "cells": [
    {
      "cell_type": "markdown",
      "metadata": {
        "id": "aDcCKqRA-H5S"
      },
      "source": [
        "# Investments Project (Spring 2024)\n",
        "\n",
        "**Authors:**\n",
        "- Marc-Antoine Allard\n",
        "- Adam Zinebi\n",
        "- Paul Teiletche\n",
        "- ...\n",
        "\n",
        "**DUE Date: June 21 at 23:59**"
      ]
    },
    {
      "cell_type": "markdown",
      "metadata": {
        "id": "4PlYT1qF-H5U"
      },
      "source": [
        "---\n",
        "# Imports"
      ]
    },
    {
      "cell_type": "code",
      "execution_count": 1,
      "metadata": {
        "id": "uC0oS9Dx-H5U"
      },
      "outputs": [],
      "source": [
        "import numpy as np\n",
        "import datetime\n",
        "import pandas as pd\n",
        "import matplotlib.pyplot as plt\n",
        "import datetime\n",
        "#import wrds\n",
        "import seaborn as sns\n",
        "import statsmodels.api as sm"
      ]
    },
    {
      "cell_type": "markdown",
      "metadata": {
        "id": "3yycU1vq-H5W"
      },
      "source": [
        "---\n",
        "# The Data"
      ]
    },
    {
      "cell_type": "markdown",
      "metadata": {
        "id": "FdYjfSVh-H5W"
      },
      "source": [
        "*Download monthly stock returns from CRSP from January 1, 1964, to December 31, 2023, for all common stocks traded on the NYSE and AMEX. Also, download the value-weighted CRSP market return and 1-month T-bill returns as a risk-free rate. Many of the relevant SQL requests or Python commands are found in the previous exercises covered earlier during the semester.*"
      ]
    },
    {
      "cell_type": "code",
      "execution_count": 2,
      "metadata": {
        "id": "vXzwMabrb2eG"
      },
      "outputs": [],
      "source": [
        "data = pd.read_parquet('../data/stock_data.parquet')"
      ]
    },
    {
      "cell_type": "markdown",
      "metadata": {
        "id": "2JyOco-P-H5X"
      },
      "source": [
        "---\n",
        "# Betting against Beta strategy (BaB)"
      ]
    },
    {
      "cell_type": "markdown",
      "metadata": {
        "id": "CQe6_i5L-yc7"
      },
      "source": [
        "*a) Compute the time-varying market βt,n for each stock by running monthly rolling 5-\n",
        "year regressions of stock-specific excess returns on the excess market return. Require\n",
        "at least 36 months of observations for each stock. Winsorize the beta at 5 and 95 %.*"
      ]
    },
    {
      "cell_type": "code",
      "execution_count": null,
      "metadata": {
        "colab": {
          "base_uri": "https://localhost:8080/"
        },
        "id": "_uX3ZcJhFwuE",
        "outputId": "4f051197-a0ce-4ee7-d80c-82704e773957"
      },
      "outputs": [],
      "source": [
        "import pandas as pd\n",
        "import statsmodels.api as sm\n",
        "from tqdm import tqdm\n",
        "data = data.dropna(subset=['mcap_l', 'Rn_e', 'Rm_e']).copy()\n",
        "\n",
        "data['N'] = data.groupby(['permno'])['date'].transform('count')\n",
        "data = data[data['N'] > 60].copy()\n",
        "tqdm.pandas()\n",
        "\n",
        "# 2. Function to calculate rolling beta using OLS regression\n",
        "def calculate_rolling_beta(group, window=60, min_periods=36):\n",
        "    group = group.sort_values('date')\n",
        "    betas = pd.Series(index=group.index, dtype=float)\n",
        "    for start in (range(len(group) - min_periods + 1)):\n",
        "        end = start + window\n",
        "        if end > len(group):\n",
        "            end = len(group)\n",
        "        subset = group.iloc[start:end]\n",
        "        if len(subset) >= min_periods:\n",
        "            X = sm.add_constant(subset['Rm_e'])\n",
        "            y = subset['Rn_e']\n",
        "            model = sm.OLS(y, X).fit()\n",
        "            betas.iloc[end-1] = model.params['Rm_e']\n",
        "    return betas\n",
        "\n",
        "data['beta'] = data.groupby('permno').progress_apply(calculate_rolling_beta).reset_index(level=0, drop=True)\n",
        "\n",
        "beta_5th = data['beta'].quantile(0.05)\n",
        "beta_95th = data['beta'].quantile(0.95)\n",
        "data['beta'] = data['beta'].clip(lower=beta_5th, upper=beta_95th)\n",
        "\n",
        "data = data.drop(columns=['N'])\n",
        "data.to_parquet('slow_part.parquet')\n"
      ]
    },
    {
      "cell_type": "code",
      "execution_count": 2,
      "metadata": {},
      "outputs": [],
      "source": [
        "import pandas as pd\n",
        "data = pd.read_parquet('../data/slow_part.parquet')\n",
        "df = data"
      ]
    },
    {
      "cell_type": "markdown",
      "metadata": {
        "id": "Aq091pNyHaVe"
      },
      "source": [
        "*b) At every month t, sort all stocks into deciles based on their beta (estimated using the most recent rolling window). Then compute monthly returns for 10 decile portfolios that equal weight all stocks in each decile. Plot the average annualized portfolio mean, standard deviation, and Sharpe ratios across the 10 deciles in three bar plots. Repeat for value-weighted decile portfolios. Summarize our findings. Is the evidence consistent with the CAPM?*"
      ]
    },
    {
      "cell_type": "code",
      "execution_count": 3,
      "metadata": {
        "colab": {
          "base_uri": "https://localhost:8080/",
          "height": 609
        },
        "id": "pZ_V2-V5bu6C",
        "outputId": "2586d19e-9ca2-4f76-8e6b-25957de8ecdb"
      },
      "outputs": [
        {
          "data": {
            "image/png": "[encoded data removed]",
            "text/plain": [
              "<Figure size 1500x500 with 3 Axes>"
            ]
          },
          "metadata": {},
          "output_type": "display_data"
        },
        {
          "data": {
            "text/plain": [
              "<BarContainer object of 10 artists>"
            ]
          },
          "execution_count": 3,
          "metadata": {},
          "output_type": "execute_result"
        },
        {
          "data": {
            "image/png": "[encoded data removed]",
            "text/plain": [
              "<Figure size 1500x500 with 3 Axes>"
            ]
          },
          "metadata": {},
          "output_type": "display_data"
        }
      ],
      "source": [
        "import pandas as pd\n",
        "import numpy as np\n",
        "import matplotlib.pyplot as plt\n",
        "\n",
        "\n",
        "def annualize_return(monthly_return):\n",
        "    return ((1 + monthly_return)**12 - 1)\n",
        "\n",
        "def sharpe_ratio(mean_return, std_dev, risk_free_rate):\n",
        "    return (mean_return - risk_free_rate) / std_dev\n",
        "\n",
        "data = data.dropna(subset=['beta']).copy()\n",
        "data['beta_Q'] = data.groupby('date')['beta'].transform(lambda x: pd.qcut(x, 10, labels=False, duplicates='drop'))\n",
        "\n",
        "data['vw_Q'] = data['mcap'] / data.groupby(['date', 'beta_Q'])['mcap'].transform('sum')\n",
        "\n",
        "data['beta_ret_vw'] = data['vw_Q'] * data['Rn']\n",
        "ret_vw = data.groupby(['date', 'beta_Q'])['beta_ret_vw'].sum().reset_index()\n",
        "vw_ret_mean = ret_vw.groupby('beta_Q')['beta_ret_vw'].mean()\n",
        "vw_ret_std = ret_vw.groupby('beta_Q')['beta_ret_vw'].std()\n",
        "\n",
        "ret_ew = data.groupby(['date', 'beta_Q'])['Rn'].mean().reset_index()\n",
        "ew_ret_mean = ret_ew.groupby('beta_Q')['Rn'].mean()\n",
        "ew_ret_std = ret_ew.groupby('beta_Q')['Rn'].std()\n",
        "\n",
        "vw_ret_mean_annual = annualize_return(vw_ret_mean)\n",
        "ew_ret_mean_annual = annualize_return(ew_ret_mean)\n",
        "\n",
        "vw_ret_std_annual = vw_ret_std * np.sqrt(12)\n",
        "ew_ret_std_annual = ew_ret_std * np.sqrt(12)\n",
        "risk_free_rate_annual = annualize_return(data['rf'].mean())\n",
        "\n",
        "vw_sharpe_ratios = sharpe_ratio(vw_ret_mean_annual, vw_ret_std_annual,risk_free_rate_annual)\n",
        "ew_sharpe_ratios = sharpe_ratio(ew_ret_mean_annual, ew_ret_std_annual,risk_free_rate_annual)\n",
        "\n",
        "deciles = ['D' + str(x) for x in range(1, 11)]\n",
        "\n",
        "plt.figure(figsize=(15, 5))\n",
        "\n",
        "plt.subplot(1, 3, 1)\n",
        "plt.bar(deciles, vw_ret_mean_annual)\n",
        "plt.title('VW Annualized Mean Returns')\n",
        "plt.xlabel('Decile')\n",
        "plt.ylabel('Return')\n",
        "\n",
        "plt.subplot(1, 3, 2)\n",
        "plt.bar(deciles, vw_ret_std_annual)\n",
        "plt.title('VW Annualized Std Dev')\n",
        "plt.xlabel('Decile')\n",
        "plt.ylabel('Standard Deviation')\n",
        "\n",
        "plt.subplot(1, 3, 3)\n",
        "plt.bar(deciles, vw_sharpe_ratios)\n",
        "plt.title('VW Sharpe Ratios')\n",
        "plt.xlabel('Decile')\n",
        "plt.ylabel('Sharpe Ratio')\n",
        "\n",
        "plt.tight_layout()\n",
        "plt.show()\n",
        "\n",
        "plt.figure(figsize=(15, 5))\n",
        "\n",
        "plt.subplot(1, 3, 1)\n",
        "plt.bar(deciles, ew_ret_mean_annual)\n",
        "plt.title('EW Annualized Mean Returns')\n",
        "plt.xlabel('Decile')\n",
        "plt.ylabel('Return')\n",
        "\n",
        "plt.subplot(1, 3, 2)\n",
        "plt.bar(deciles, ew_ret_std_annual)\n",
        "plt.title('EW Annualized Std Dev')\n",
        "plt.xlabel('Decile')\n",
        "plt.ylabel('Standard Deviation')\n",
        "\n",
        "plt.subplot(1, 3, 3)\n",
        "plt.bar(deciles, ew_sharpe_ratios)\n"
      ]
    },
    {
      "cell_type": "markdown",
      "metadata": {
        "id": "VVNWAWHkHbZ8"
      },
      "source": [
        "*c)*"
      ]
    },
    {
      "cell_type": "code",
      "execution_count": 4,
      "metadata": {
        "id": "bbOIl7iWGUJb"
      },
      "outputs": [],
      "source": [
        "# Weights\n",
        "data['z'] = data.groupby('date')['beta'].transform(lambda x: x.rank())\n",
        "data['z_'] = data['z']-data.groupby('date')['z'].transform('mean')\n",
        "data['k'] = np.abs(data['z_'])\n",
        "data['k'] = 2/data.groupby('date')['k'].transform('sum')\n",
        "data['w_H'] = data['k'] * data['z_'] * (data['z_']>0)\n",
        "data['w_L'] = -data['k'] * data['z_'] * (data['z_']<0)\n",
        "\n",
        "\n"
      ]
    },
    {
      "cell_type": "markdown",
      "metadata": {
        "id": "Dr3cjLuYHcQ-"
      },
      "source": [
        "d)"
      ]
    },
    {
      "cell_type": "code",
      "execution_count": 5,
      "metadata": {
        "id": "YHxX62-cjxof"
      },
      "outputs": [],
      "source": [
        "# Weighted returns and beta\n",
        "data['beta_H'] = data['w_H'] * data['beta']\n",
        "data['beta_L'] = data['w_L'] * data['beta']\n",
        "data['R_H'] = data['w_H'] * data['Rn']\n",
        "data['R_L'] = data['w_L'] * data['Rn']\n",
        "data['R_H_e'] = data['w_H'] * data['Rn_e']\n",
        "data['R_L_e'] = data['w_L'] * data['Rn_e']\n",
        "BAB = data.groupby('date')[['R_H','R_L','R_H_e','R_L_e','beta_H','beta_L']].sum().reset_index()\n"
      ]
    },
    {
      "cell_type": "code",
      "execution_count": 15,
      "metadata": {},
      "outputs": [
        {
          "name": "stderr",
          "output_type": "stream",
          "text": [
            "/var/folders/1y/cd26kgpx7jd535tgk4gkf_3r0000gn/T/ipykernel_23455/1637187380.py:2: SettingWithCopyWarning: \n",
            "A value is trying to be set on a copy of a slice from a DataFrame.\n",
            "Try using .loc[row_indexer,col_indexer] = value instead\n",
            "\n",
            "See the caveats in the documentation: https://pandas.pydata.org/pandas-docs/stable/user_guide/indexing.html#returning-a-view-versus-a-copy\n",
            "  df_Rf['date'] = pd.to_datetime(df_Rf['date']).dt.strftime('%Y-%m')\n"
          ]
        }
      ],
      "source": [
        "df_Rf = df[['rf','date','Rm']]\n",
        "df_Rf['date'] = pd.to_datetime(df_Rf['date']).dt.strftime('%Y-%m')\n",
        "BAB['BAB2'] = BAB['R_L_e']/BAB['beta_L'] - BAB['R_H_e']/BAB['beta_H']\n",
        "BAB_final = BAB.drop(columns=['R_H','R_L','R_H_e','R_L_e','beta_H','beta_L'])\n",
        "BAB_final['date'] = BAB_final['date'].dt.strftime('%Y-%m')\n",
        "BAB_final['BAB'] = BAB_final['BAB2']\n",
        "BAB_final = BAB_final.merge(df_Rf, on='date', how='left')\n",
        "BAB_final = BAB_final.drop(columns=['BAB2'])\n",
        "BAB_final.drop_duplicates(inplace=True)"
      ]
    },
    {
      "cell_type": "code",
      "execution_count": 27,
      "metadata": {},
      "outputs": [
        {
          "name": "stdout",
          "output_type": "stream",
          "text": [
            "Mean BAB: 0.0087138468247437\n",
            "Standard Deviation BAB: 0.03962929888544308\n",
            "Sharpe Ratio BAB: 0.21988395126375887\n",
            "CAPM Alpha BAB: 0.11846480382496935\n"
          ]
        },
        {
          "name": "stderr",
          "output_type": "stream",
          "text": [
            "/var/folders/1y/cd26kgpx7jd535tgk4gkf_3r0000gn/T/ipykernel_23455/1855752364.py:12: FutureWarning: Series.__getitem__ treating keys as positions is deprecated. In a future version, integer keys will always be treated as labels (consistent with DataFrame behavior). To access a value by position, use `ser.iloc[pos]`\n",
            "  capm_alpha = capm_model.params[1]\n"
          ]
        }
      ],
      "source": [
        "mean_bab = BAB_final['BAB'].mean()\n",
        "std_bab = BAB_final['BAB'].std()\n",
        "sharpe_ratio = (mean_bab) / std_bab\n",
        "BAB_final['const'] = 1\n",
        "\n",
        "BAB_final.dropna()\n",
        "\n",
        "BAB_final['excess_market'] = BAB_final['Rm'] - BAB_final['rf']\n",
        "X = BAB_final[['excess_market','const']]\n",
        "y = BAB_final['BAB']\n",
        "capm_model = sm.OLS(y, X).fit()\n",
        "capm_alpha = capm_model.params[1]\n",
        "\n",
        "print(f\"Mean BAB: {mean_bab}\")\n",
        "print(f\"Standard Deviation BAB: {(std_bab)}\")\n",
        "print(f\"Sharpe Ratio BAB: {sharpe_ratio}\")\n",
        "print(f\"CAPM Alpha BAB: {capm_alpha*12}\")\n"
      ]
    },
    {
      "cell_type": "code",
      "execution_count": null,
      "metadata": {},
      "outputs": [],
      "source": [
        "data.to_parquet('stock_data_part1.parquet')\n"
      ]
    },
    {
      "cell_type": "markdown",
      "metadata": {},
      "source": [
        "#### BaB Weights calclus for Ex7"
      ]
    },
    {
      "cell_type": "code",
      "execution_count": 7,
      "metadata": {},
      "outputs": [],
      "source": [
        "BAB_weights = data[['date','permno','w_H','w_L']].merge(BAB[['date','beta_H','beta_L']],on='date',how='left')\n",
        "BAB_weights['BaB_strat'] =  BAB_weights['w_L'] / BAB_weights['beta_L']\n",
        "BAB_weights['BaB_strat'] = BAB_weights['BaB_strat'].fillna(0)\n",
        "BAB_weights['BaB_strat'] -= BAB_weights['w_H'] / BAB_weights['beta_H']\n",
        "BAB_weights['BaB_strat'] = BAB_weights['BaB_strat'].fillna(0)\n"
      ]
    },
    {
      "cell_type": "code",
      "execution_count": 8,
      "metadata": {},
      "outputs": [],
      "source": [
        "BAB_weights[['date','permno','BaB_strat']].to_parquet('BaB_weights.parquet')"
      ]
    },
    {
      "cell_type": "markdown",
      "metadata": {
        "id": "1VcqFZos-H5X"
      },
      "source": [
        "---\n",
        "# Momentum Strategy (Mom)"
      ]
    },
    {
      "cell_type": "markdown",
      "metadata": {
        "id": "_pIAblt2-H5X"
      },
      "source": []
    },
    {
      "cell_type": "markdown",
      "metadata": {
        "id": "6CYlh_M5-H5Y"
      },
      "source": [
        "---\n",
        "# Idiosyncratic Volatility Strategy (IV)"
      ]
    },
    {
      "cell_type": "code",
      "execution_count": null,
      "metadata": {
        "id": "O6-da69j-H5Y"
      },
      "outputs": [],
      "source": []
    },
    {
      "cell_type": "markdown",
      "metadata": {
        "id": "sWOwflHm-H5Y"
      },
      "source": [
        "---\n",
        "# Optimal Fund Portfolio Return (STRAT)"
      ]
    },
    {
      "cell_type": "code",
      "execution_count": null,
      "metadata": {
        "id": "KQ_5DDK1-H5Y"
      },
      "outputs": [],
      "source": []
    },
    {
      "cell_type": "markdown",
      "metadata": {
        "id": "XtsdsFlL-H5Y"
      },
      "source": [
        "---\n",
        "# Performance and risk analysis for the Fund strategy"
      ]
    },
    {
      "cell_type": "code",
      "execution_count": null,
      "metadata": {
        "id": "Shyqw-zV-H5Y"
      },
      "outputs": [],
      "source": []
    },
    {
      "cell_type": "markdown",
      "metadata": {
        "id": "_qR9RyHL-H5Y"
      },
      "source": [
        "---\n",
        "# Industry neutral strategy"
      ]
    },
    {
      "cell_type": "code",
      "execution_count": null,
      "metadata": {
        "id": "I1Kj8roa-H5Y"
      },
      "outputs": [],
      "source": []
    }
  ],
  "metadata": {
    "colab": {
      "machine_shape": "hm",
      "provenance": []
    },
    "kernelspec": {
      "display_name": "Python 3",
      "name": "python3"
    },
    "language_info": {
      "codemirror_mode": {
        "name": "ipython",
        "version": 3
      },
      "file_extension": ".py",
      "mimetype": "text/x-python",
      "name": "python",
      "nbconvert_exporter": "python",
      "pygments_lexer": "ipython3",
      "version": "3.11.5"
    }
  },
  "nbformat": 4,
  "nbformat_minor": 0
}
