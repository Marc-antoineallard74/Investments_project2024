{
 "cells": [
  {
   "cell_type": "markdown",
   "metadata": {},
   "source": [
    "# Investments Project (Spring 2024)\n",
    "\n",
    "**Authors:**\n",
    "- Marc-Antoine Allard\n",
    "- Adam Zinebi\n",
    "- Paul Teiletche\n",
    "- ...\n",
    "\n",
    "**DUE Date: June 21 at 23:59**"
   ]
  },
  {
   "cell_type": "markdown",
   "metadata": {},
   "source": [
    "---\n",
    "# Imports"
   ]
  },
  {
   "cell_type": "code",
   "execution_count": 1,
   "metadata": {},
   "outputs": [],
   "source": [
    "import numpy as np\n",
    "import datetime\n",
    "import pandas as pd\n",
    "import matplotlib.pyplot as plt\n",
    "import datetime\n",
    "#import wrds\n",
    "import seaborn as sns"
   ]
  },
  {
   "cell_type": "markdown",
   "metadata": {},
   "source": [
    "---\n",
    "# Idiosyncratic Volatility Strategy (IV)\n",
    "\n",
    "(a) Compute the time-varying estimate for each stock’s idiosyncratic volatility σidio\n",
    "t,n ob-\n",
    "tained as the volatility of the residual in the monthly rolling 5-year regressions of\n",
    "stock-specific excess returns on the excess market return. Require at least 36 months\n",
    "of observations for each stock. Winsorize the volatility at 5 and 95 %."
   ]
  },
  {
   "cell_type": "code",
   "execution_count": null,
   "metadata": {},
   "outputs": [],
   "source": [
    "..."
   ]
  },
  {
   "cell_type": "markdown",
   "metadata": {},
   "source": [
    "(b) At every month t, sort all stocks into deciles based on their idiosyncratic volatility\n",
    "(estimated using the most recent rolling window). Then compute monthly returns for\n",
    "10 decile portfolios that equal weight all stocks in each decile. Plot the average annu-\n",
    "alized portfolio mean, standard deviation, and Sharpe ratios across the 10 deciles in\n",
    "three barplots. Repeat for value-weighted decile portfolios. Summarize your findings.\n",
    "Is the evidence consistent with the CAPM?"
   ]
  },
  {
   "cell_type": "code",
   "execution_count": null,
   "metadata": {},
   "outputs": [],
   "source": [
    "..."
   ]
  },
  {
   "cell_type": "markdown",
   "metadata": {},
   "source": [
    "(c) Now we construct the idiosyncratic volatility factor. At every month t, we go long\n",
    "the three highest decile volatility portfolios and we go short the three lowest decile\n",
    "volatility portfolios. Compute and compare the mean, standard deviation, and Sharpe\n",
    "ratios of the long and short legs of the strategy as well as of the strategy itself. Test if\n",
    "the strategy has an average return that is statistically significantly different from zero.\n",
    "Repeat both tests for equal and value-weighted portfolios. How do your results differ\n",
    "from Ang, Hodrick, Xing, and Zhang (2006; table VI page 285) and what may be the\n",
    "explanation for the difference?"
   ]
  },
  {
   "cell_type": "code",
   "execution_count": null,
   "metadata": {},
   "outputs": [],
   "source": [
    "..."
   ]
  }
 ],
 "metadata": {
  "kernelspec": {
   "display_name": "DataScience",
   "language": "python",
   "name": "python3"
  },
  "language_info": {
   "codemirror_mode": {
    "name": "ipython",
    "version": 3
   },
   "file_extension": ".py",
   "mimetype": "text/x-python",
   "name": "python",
   "nbconvert_exporter": "python",
   "pygments_lexer": "ipython3",
   "version": "3.11.4"
  }
 },
 "nbformat": 4,
 "nbformat_minor": 2
}
