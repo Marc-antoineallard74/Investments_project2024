{
 "cells": [
  {
   "cell_type": "markdown",
   "metadata": {},
   "source": [
    "# Investments Project (Spring 2024)\n",
    "\n",
    "**Authors:**\n",
    "- Marc-Antoine Allard\n",
    "- Adam Zinebi\n",
    "- Paul Teiletche\n",
    "- ...\n",
    "\n",
    "**DUE Date: June 21 at 23:59**"
   ]
  },
  {
   "cell_type": "markdown",
   "metadata": {},
   "source": [
    "---\n",
    "# Utils"
   ]
  },
  {
   "cell_type": "markdown",
   "metadata": {},
   "source": [
    "## Imports"
   ]
  },
  {
   "cell_type": "code",
   "execution_count": 2,
   "metadata": {},
   "outputs": [],
   "source": [
    "import numpy as np\n",
    "import datetime\n",
    "import pandas as pd\n",
    "import matplotlib.pyplot as plt\n",
    "import datetime\n",
    "import wrds\n",
    "import seaborn as sns"
   ]
  },
  {
   "cell_type": "code",
   "execution_count": 9,
   "metadata": {},
   "outputs": [
    {
     "name": "stdout",
     "output_type": "stream",
     "text": [
      "Loading library list...\n",
      "Done\n"
     ]
    }
   ],
   "source": [
    "# WRDS connection Set up\n",
    "\n",
    "# Your Username here\n",
    "username = \"maallard\"\n",
    "\n",
    "db=wrds.Connection(wrds_username=username)\n",
    "db.create_pgpass_file()"
   ]
  },
  {
   "cell_type": "markdown",
   "metadata": {},
   "source": [
    "## Helper Functions"
   ]
  },
  {
   "cell_type": "code",
   "execution_count": null,
   "metadata": {},
   "outputs": [],
   "source": []
  },
  {
   "cell_type": "markdown",
   "metadata": {},
   "source": [
    "---\n",
    "# The Data"
   ]
  },
  {
   "cell_type": "markdown",
   "metadata": {},
   "source": [
    "**Download:**\n",
    "- Monthly stock returns from CRSP from January 1, 1964, to December 31, 2023, for all common stocks traded on the NYSE and AMEX.\n",
    "- The value-weighted CRSP market return and 1-month T-bill returns as a risk-free rate."
   ]
  },
  {
   "cell_type": "code",
   "execution_count": 16,
   "metadata": {},
   "outputs": [],
   "source": [
    "### Download and format data\n",
    "\n",
    "#---------------------------------------------\n",
    "# Risk Free Rate \n",
    "#---------------------------------------------\n",
    "Rf=db.raw_sql(\"\"\"select  mcaldt,tmytm \n",
    "            from crsp.tfz_mth_rf            \n",
    "            where kytreasnox = 2000001 \n",
    "            and mcaldt>='1964-01-01'\n",
    "            and mcaldt<='2023-12-31'\"\"\", date_cols=['mcaldt'])\n",
    "Rf['tmytm']=Rf['tmytm']/12/100\n",
    "Rf=Rf.rename(columns={ \"mcaldt\": \"date\",\"tmytm\": \"rf\"})\n",
    "\n",
    "#---------------------------------------------\n",
    "# Value Weighted Index Returns\n",
    "#---------------------------------------------\n",
    "Rm=db.raw_sql(\"\"\"select  date,vwretd from crsp.msi \n",
    "                where date>='1964-01-01' and date<='2023-12-31'\n",
    "                \"\"\",date_cols=['date'])\n",
    "Rm = Rm.rename(columns={'vwretd':'Rm'})\n",
    "\n",
    "#---------------------------------------------\n",
    "# Stock Returns \n",
    "#---------------------------------------------\n",
    "\n",
    "stock_data = db.raw_sql(\"\"\"\n",
    "                    select a.permno, a.date, a.ret, a.shrout, a.prc, b.siccd \n",
    "                      from crsp.msf as a\n",
    "                      left join crsp.msenames as b\n",
    "                      on a.permno=b.permno\n",
    "                      and b.namedt<=a.date\n",
    "                      and a.date<=b.nameendt\n",
    "                      where a.date between '01/01/1964' and '12/31/2023'\n",
    "                      and b.exchcd between 1 and 2 \n",
    "                      and b.shrcd between 10 and 11\n",
    "                      \"\"\", date_cols=['date']) \n",
    "stock_data = stock_data.rename(columns={'ret':'Rn'})\n",
    "\n",
    "\n",
    "#---------------------------------------------\n",
    "# Merge Data\n",
    "#---------------------------------------------\n",
    "\n",
    "# Merge all data\n",
    "merged_data = pd.merge(stock_data, Rm, on='date')\n",
    "merged_data = pd.merge(merged_data, Rf, on='date')\n",
    "\n",
    "# Save CSV\n",
    "merged_data.to_csv('merged_stock_data.csv', index=False)"
   ]
  },
  {
   "cell_type": "markdown",
   "metadata": {},
   "source": [
    "## Load and Prepare DATA"
   ]
  },
  {
   "cell_type": "code",
   "execution_count": 18,
   "metadata": {},
   "outputs": [],
   "source": [
    "data = pd.read_csv(\"../data/merged_stock_data.csv\")"
   ]
  },
  {
   "cell_type": "code",
   "execution_count": 19,
   "metadata": {},
   "outputs": [
    {
     "data": {
      "text/html": [
       "<div>\n",
       "<style scoped>\n",
       "    .dataframe tbody tr th:only-of-type {\n",
       "        vertical-align: middle;\n",
       "    }\n",
       "\n",
       "    .dataframe tbody tr th {\n",
       "        vertical-align: top;\n",
       "    }\n",
       "\n",
       "    .dataframe thead th {\n",
       "        text-align: right;\n",
       "    }\n",
       "</style>\n",
       "<table border=\"1\" class=\"dataframe\">\n",
       "  <thead>\n",
       "    <tr style=\"text-align: right;\">\n",
       "      <th></th>\n",
       "      <th>permno</th>\n",
       "      <th>date</th>\n",
       "      <th>Rn</th>\n",
       "      <th>shrout</th>\n",
       "      <th>prc</th>\n",
       "      <th>siccd</th>\n",
       "      <th>Rm</th>\n",
       "      <th>rf</th>\n",
       "      <th>mcap</th>\n",
       "      <th>mcap_l</th>\n",
       "      <th>Rn_f</th>\n",
       "      <th>const</th>\n",
       "      <th>Rn_e</th>\n",
       "      <th>Rm_e</th>\n",
       "      <th>w_m</th>\n",
       "    </tr>\n",
       "  </thead>\n",
       "  <tbody>\n",
       "    <tr>\n",
       "      <th>5</th>\n",
       "      <td>10001</td>\n",
       "      <td>2010-01-29</td>\n",
       "      <td>-0.018932</td>\n",
       "      <td>4361.0</td>\n",
       "      <td>10.0600</td>\n",
       "      <td>4925</td>\n",
       "      <td>-0.037172</td>\n",
       "      <td>0.000013</td>\n",
       "      <td>43871.6600</td>\n",
       "      <td>44918.3000</td>\n",
       "      <td>-0.000656</td>\n",
       "      <td>1</td>\n",
       "      <td>-0.018945</td>\n",
       "      <td>-0.037185</td>\n",
       "      <td>0.000005</td>\n",
       "    </tr>\n",
       "    <tr>\n",
       "      <th>4</th>\n",
       "      <td>10001</td>\n",
       "      <td>2010-02-26</td>\n",
       "      <td>-0.000656</td>\n",
       "      <td>4361.0</td>\n",
       "      <td>10.0084</td>\n",
       "      <td>4925</td>\n",
       "      <td>0.034744</td>\n",
       "      <td>0.000061</td>\n",
       "      <td>43646.6324</td>\n",
       "      <td>43871.6600</td>\n",
       "      <td>0.020643</td>\n",
       "      <td>1</td>\n",
       "      <td>-0.000717</td>\n",
       "      <td>0.034683</td>\n",
       "      <td>0.000005</td>\n",
       "    </tr>\n",
       "    <tr>\n",
       "      <th>3</th>\n",
       "      <td>10001</td>\n",
       "      <td>2010-03-31</td>\n",
       "      <td>0.020643</td>\n",
       "      <td>4361.0</td>\n",
       "      <td>10.1700</td>\n",
       "      <td>4925</td>\n",
       "      <td>0.063668</td>\n",
       "      <td>0.000112</td>\n",
       "      <td>44351.3700</td>\n",
       "      <td>43646.6324</td>\n",
       "      <td>0.124385</td>\n",
       "      <td>1</td>\n",
       "      <td>0.020531</td>\n",
       "      <td>0.063556</td>\n",
       "      <td>0.000005</td>\n",
       "    </tr>\n",
       "    <tr>\n",
       "      <th>2</th>\n",
       "      <td>10001</td>\n",
       "      <td>2010-04-30</td>\n",
       "      <td>0.124385</td>\n",
       "      <td>6070.0</td>\n",
       "      <td>11.3900</td>\n",
       "      <td>4925</td>\n",
       "      <td>0.020036</td>\n",
       "      <td>0.000118</td>\n",
       "      <td>69137.3000</td>\n",
       "      <td>44351.3700</td>\n",
       "      <td>0.004829</td>\n",
       "      <td>1</td>\n",
       "      <td>0.124267</td>\n",
       "      <td>0.019918</td>\n",
       "      <td>0.000004</td>\n",
       "    </tr>\n",
       "    <tr>\n",
       "      <th>1</th>\n",
       "      <td>10001</td>\n",
       "      <td>2010-05-28</td>\n",
       "      <td>0.004829</td>\n",
       "      <td>6071.0</td>\n",
       "      <td>11.4000</td>\n",
       "      <td>4925</td>\n",
       "      <td>-0.079240</td>\n",
       "      <td>0.000114</td>\n",
       "      <td>69209.4000</td>\n",
       "      <td>69137.3000</td>\n",
       "      <td>-0.043421</td>\n",
       "      <td>1</td>\n",
       "      <td>0.004715</td>\n",
       "      <td>-0.079354</td>\n",
       "      <td>0.000007</td>\n",
       "    </tr>\n",
       "  </tbody>\n",
       "</table>\n",
       "</div>"
      ],
      "text/plain": [
       "   permno       date        Rn  shrout      prc  siccd        Rm        rf  \\\n",
       "5   10001 2010-01-29 -0.018932  4361.0  10.0600   4925 -0.037172  0.000013   \n",
       "4   10001 2010-02-26 -0.000656  4361.0  10.0084   4925  0.034744  0.000061   \n",
       "3   10001 2010-03-31  0.020643  4361.0  10.1700   4925  0.063668  0.000112   \n",
       "2   10001 2010-04-30  0.124385  6070.0  11.3900   4925  0.020036  0.000118   \n",
       "1   10001 2010-05-28  0.004829  6071.0  11.4000   4925 -0.079240  0.000114   \n",
       "\n",
       "         mcap      mcap_l      Rn_f  const      Rn_e      Rm_e       w_m  \n",
       "5  43871.6600  44918.3000 -0.000656      1 -0.018945 -0.037185  0.000005  \n",
       "4  43646.6324  43871.6600  0.020643      1 -0.000717  0.034683  0.000005  \n",
       "3  44351.3700  43646.6324  0.124385      1  0.020531  0.063556  0.000005  \n",
       "2  69137.3000  44351.3700  0.004829      1  0.124267  0.019918  0.000004  \n",
       "1  69209.4000  69137.3000 -0.043421      1  0.004715 -0.079354  0.000007  "
      ]
     },
     "execution_count": 19,
     "metadata": {},
     "output_type": "execute_result"
    }
   ],
   "source": [
    "# CLEAN \n",
    "data['date'] = pd.to_datetime(data['date'])\n",
    "data = data.sort_values(['permno', 'date']) # Sort the data by 'permno' and 'date'\n",
    "data['mcap'] = np.abs(data['prc']) * data['shrout'] # Market capitalization\n",
    "data['mcap_l'] = data.groupby(['permno'])['mcap'].shift(1) # Lagged market capitalization\n",
    "data['Rn_f'] = data.groupby(['permno'])['Rn'].shift(-1) # Future stock return\n",
    "# CST col\n",
    "data['const'] = 1\n",
    "# Excess returns\n",
    "data['Rn_e'] = data['Rn'] - data['rf']\n",
    "data['Rm_e'] = data['Rm'] - data['rf']\n",
    "# Market capitalization weight\n",
    "data['w_m'] = data['mcap_l'] / data.groupby(['date'])['mcap_l'].transform('sum')\n",
    "\n",
    "# Drop rows with missing values in specified columns\n",
    "data = data.dropna(subset=['mcap_l', 'Rn_e', 'Rm_e']).copy()\n",
    "\n",
    "# Display the prepared DataFrame\n",
    "data.head()"
   ]
  },
  {
   "cell_type": "code",
   "execution_count": 21,
   "metadata": {},
   "outputs": [],
   "source": [
    "data.to_parquet('stock_data.parquet')\n",
    "merged_data.to_parquet('merged_stock_data.parquet')"
   ]
  },
  {
   "cell_type": "markdown",
   "metadata": {},
   "source": [
    "---\n",
    "# Betting against Beta strategy (BaB)"
   ]
  },
  {
   "cell_type": "code",
   "execution_count": null,
   "metadata": {},
   "outputs": [],
   "source": []
  },
  {
   "cell_type": "markdown",
   "metadata": {},
   "source": [
    "---\n",
    "# Momentum Strategy (Mom)"
   ]
  },
  {
   "cell_type": "markdown",
   "metadata": {},
   "source": []
  },
  {
   "cell_type": "markdown",
   "metadata": {},
   "source": [
    "---\n",
    "# Idiosyncratic Volatility Strategy (IV)"
   ]
  },
  {
   "cell_type": "code",
   "execution_count": null,
   "metadata": {},
   "outputs": [],
   "source": []
  },
  {
   "cell_type": "markdown",
   "metadata": {},
   "source": [
    "---\n",
    "# Optimal Fund Portfolio Return (STRAT)"
   ]
  },
  {
   "cell_type": "code",
   "execution_count": null,
   "metadata": {},
   "outputs": [],
   "source": []
  },
  {
   "cell_type": "markdown",
   "metadata": {},
   "source": [
    "---\n",
    "# Performance and risk analysis for the Fund strategy"
   ]
  },
  {
   "cell_type": "code",
   "execution_count": null,
   "metadata": {},
   "outputs": [],
   "source": []
  },
  {
   "cell_type": "markdown",
   "metadata": {},
   "source": [
    "---\n",
    "# Industry neutral strategy"
   ]
  },
  {
   "cell_type": "code",
   "execution_count": null,
   "metadata": {},
   "outputs": [],
   "source": []
  }
 ],
 "metadata": {
  "kernelspec": {
   "display_name": "DataScience",
   "language": "python",
   "name": "python3"
  },
  "language_info": {
   "codemirror_mode": {
    "name": "ipython",
    "version": 3
   },
   "file_extension": ".py",
   "mimetype": "text/x-python",
   "name": "python",
   "nbconvert_exporter": "python",
   "pygments_lexer": "ipython3",
   "version": "3.11.4"
  }
 },
 "nbformat": 4,
 "nbformat_minor": 2
}
